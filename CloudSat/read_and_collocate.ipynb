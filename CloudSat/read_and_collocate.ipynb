{
 "cells": [
  {
   "cell_type": "code",
   "execution_count": 24,
   "metadata": {},
   "outputs": [
    {
     "name": "stderr",
     "output_type": "stream",
     "text": [
      "/Users/mgrecu/miniforge3/lib/python3.10/site-packages/pyresample/kd_tree.py:261: UserWarning: Possible more than 8 neighbours within 50000 m for some data points\n",
      "  get_neighbour_info(source_geo_def,\n"
     ]
    }
   ],
   "source": [
    "import glob\n",
    "import numpy as np\n",
    "import netCDF4 as nc\n",
    "from scipy.ndimage import binary_dilation\n",
    "nt=0\n",
    "nt_warm=0\n",
    "#print(files)\n",
    "bin2L=[]\n",
    "f_old=[]\n",
    "import os\n",
    "import pyresample\n",
    "tb_L=[]\n",
    "sfc_precip_L=[]\n",
    "from pykdtree.kdtree import KDTree\n",
    "import pickle\n",
    "ntot=0\n",
    "for im in [2,5,8,11]:\n",
    "    files=sorted(glob.glob('1C_GMI/2017/%2.2i/*'%im))\n",
    "    for f in files[:]:\n",
    "        with nc.Dataset(f) as fh:\n",
    "            vars=fh.variables.keys()\n",
    "        #print(vars)\n",
    "            if 'bin_nodes_corra' not in vars:\n",
    "                f_old.append(f)\n",
    "                os.system('rm %s'%f)\n",
    "                continue\n",
    "            lon_s1=fh.variables[\"Longitude_S1\"][:]\n",
    "            lat_s1=fh.variables[\"Latitude_S1\"][:]\n",
    "            tb_s1=fh.variables[\"Tb_S1\"][:]\n",
    "            lat_dpr=fh.variables[\"Latitude_DPR\"][:]\n",
    "            lon_dpr=fh.variables[\"Longitude_DPR\"][:]\n",
    "            \n",
    "            land_sea_type=fh['surface_type_corra'][:]\n",
    "            bin_nodes=fh['bin_nodes_corra'][:]\n",
    "            precip_type=fh['precip_type_corra'][:]\n",
    "            grid_def = pyresample.geometry.GridDefinition(lons=lon_dpr.data, lats=lat_dpr.data)\n",
    "            swath_def = pyresample.geometry.SwathDefinition(lons=lon_s1.data, lats=lat_s1.data)\n",
    "            tb_s1_resampled = pyresample.kd_tree.resample_gauss(swath_def, tb_s1[:,:,:].data, grid_def, radius_of_influence=50000, fill_value=None, sigmas=[25000 for k in range(9)])\n",
    "            no_sea_mask=binary_dilation(land_sea_type!=0,iterations=5)\n",
    "            #stop\n",
    "            near_surf_precip=fh.variables[\"near_sfc_rain_corra\"][:]\n",
    "            Latitude_CSAT=fh.variables[\"Latitude_CSAT\"][:]\n",
    "            Longitude_CSAT=fh.variables[\"Longitude_CSAT\"][:]\n",
    "            precip_csat=fh.variables[\"precip_csat\"][:]\n",
    "            loc_dpr=np.array([lon_dpr.flatten(),lat_dpr.flatten()]).T\n",
    "            loc_csat=np.array([Longitude_CSAT.flatten(),Latitude_CSAT.flatten()]).T\n",
    "            kdt = KDTree(loc_dpr,leafsize=10)\n",
    "            dist,indx=kdt.query(loc_csat,1)\n",
    "            a_dist=np.nonzero(dist<0.02)\n",
    "        d_collocated={}\n",
    "        for ind1 in a_dist[0]:\n",
    "            i_dpr=indx[ind1]//lon_dpr.shape[1]\n",
    "            j_dpr=indx[ind1]%lon_dpr.shape[1]\n",
    "            if no_sea_mask[i_dpr,j_dpr]!=0:\n",
    "                continue\n",
    "            if (i_dpr,j_dpr) not in d_collocated:\n",
    "                d_collocated[(i_dpr,j_dpr)]=[[precip_csat[ind1]],[near_surf_precip[i_dpr,j_dpr],tb_s1_resampled[i_dpr,j_dpr,:].data,precip_type[i_dpr,j_dpr]]]\n",
    "            else:\n",
    "                d_collocated[(i_dpr,j_dpr)][0].append(precip_csat[ind1])  \n",
    "        fout='pickle_dir/colloc_data.'+f[37:-9]+'pklz'\n",
    "        ntot+=len(d_collocated)\n",
    "        if len(d_collocated)==0:\n",
    "            continue\n",
    "        pickle.dump(d_collocated,open(fout,'wb'))\n",
    "\n"
   ]
  },
  {
   "cell_type": "code",
   "execution_count": 25,
   "metadata": {},
   "outputs": [
    {
     "name": "stdout",
     "output_type": "stream",
     "text": [
      "11287\n"
     ]
    }
   ],
   "source": [
    "print(ntot)"
   ]
  },
  {
   "cell_type": "code",
   "execution_count": 15,
   "metadata": {},
   "outputs": [
    {
     "name": "stdout",
     "output_type": "stream",
     "text": [
      "38\n"
     ]
    }
   ],
   "source": [
    "import \n",
    "#print(len(d_collocated))"
   ]
  },
  {
   "cell_type": "code",
   "execution_count": 22,
   "metadata": {},
   "outputs": [
    {
     "name": "stdout",
     "output_type": "stream",
     "text": [
      "20170201-S110037-E123311.016644.\n"
     ]
    }
   ],
   "source": [
    "print(f[37:-9])"
   ]
  },
  {
   "cell_type": "code",
   "execution_count": 70,
   "metadata": {},
   "outputs": [
    {
     "name": "stdout",
     "output_type": "stream",
     "text": [
      "0.05347632718650787\n"
     ]
    }
   ],
   "source": [
    "sfc_precip_L=np.array(sfc_precip_L)\n",
    "a=np.nonzero(sfc_precip_L>0)\n",
    "print(len(a[0])/sfc_precip_L.size)\n",
    "\n",
    "import xarray as xr\n",
    "tbx=xr.DataArray(np.array(tb_L),dims=['nt','nch'],name='tb').astype('float32')\n",
    "sfc_precip_x=xr.DataArray(sfc_precip_L,dims=['nt'],name='sfc_precip').astype('float32')\n",
    "complev=5\n",
    "encoding={'tb': {'complevel': complev, 'zlib': True},'sfc_precip': {'complevel': complev, 'zlib': True}}\n",
    "ds=xr.Dataset({'tb':tbx,'sfc_precip':sfc_precip_x})\n",
    "ds.to_netcdf('tb_sfc_precip_2017_1_4_7_10.nc',encoding=encoding)\n"
   ]
  },
  {
   "cell_type": "code",
   "execution_count": 52,
   "metadata": {},
   "outputs": [
    {
     "name": "stdout",
     "output_type": "stream",
     "text": [
      "18804763 0 0.0\n"
     ]
    },
    {
     "data": {
      "image/png": "[encoded data removed]",
      "text/plain": [
       "<Figure size 640x480 with 1 Axes>"
      ]
     },
     "metadata": {},
     "output_type": "display_data"
    }
   ],
   "source": [
    "print(nt,nt_warm,nt_warm/nt*100)\n",
    "import matplotlib.pyplot as plt\n",
    "h1=plt.hist(bin2L,bins=np.arange(64,78))"
   ]
  },
  {
   "cell_type": "code",
   "execution_count": 7,
   "metadata": {},
   "outputs": [
    {
     "name": "stdout",
     "output_type": "stream",
     "text": [
      "0\n"
     ]
    }
   ],
   "source": [
    "print(len(a[0]))"
   ]
  }
 ],
 "metadata": {
  "kernelspec": {
   "display_name": "Python 3",
   "language": "python",
   "name": "python3"
  },
  "language_info": {
   "codemirror_mode": {
    "name": "ipython",
    "version": 3
   },
   "file_extension": ".py",
   "mimetype": "text/x-python",
   "name": "python",
   "nbconvert_exporter": "python",
   "pygments_lexer": "ipython3",
   "version": "3.10.14"
  }
 },
 "nbformat": 4,
 "nbformat_minor": 2
}
